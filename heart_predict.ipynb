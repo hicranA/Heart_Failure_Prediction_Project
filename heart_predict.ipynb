{
 "cells": [
  {
   "cell_type": "markdown",
   "id": "451bae01",
   "metadata": {},
   "source": [
    "### Auther : Hicran Arnold <br> stroke_prediction"
   ]
  },
  {
   "cell_type": "code",
   "execution_count": 70,
   "id": "6074e92b",
   "metadata": {},
   "outputs": [],
   "source": [
    "import pandas as pd\n",
    "import numpy as np\n",
    "import matplotlib.pyplot as plt\n",
    "import seaborn as sns\n",
    "from  sklearn.model_selection import train_test_split\n",
    "from sklearn.linear_model import LogisticRegression\n",
    "from sklearn.pipeline import make_pipeline#???\n",
    "from sklearn import preprocessing\n",
    "from sklearn.metrics import confusion_matrix,ConfusionMatrixDisplay,accuracy_score,plot_roc_curve\n",
    "from sklearn.feature_selection import SelectKBest, mutual_info_classif"
   ]
  },
  {
   "cell_type": "markdown",
   "id": "11ab7968",
   "metadata": {},
   "source": [
    "reading and saving the document"
   ]
  },
  {
   "cell_type": "code",
   "execution_count": 73,
   "id": "464dec4a",
   "metadata": {},
   "outputs": [
    {
     "name": "stdout",
     "output_type": "stream",
     "text": [
      "onservation size:  918\n",
      "   Age Sex ChestPainType  RestingBP  Cholesterol  FastingBS RestingECG  MaxHR  \\\n",
      "0   40   M           ATA        140          289          0     Normal    172   \n",
      "1   49   F           NAP        160          180          0     Normal    156   \n",
      "2   37   M           ATA        130          283          0         ST     98   \n",
      "3   48   F           ASY        138          214          0     Normal    108   \n",
      "4   54   M           NAP        150          195          0     Normal    122   \n",
      "\n",
      "  ExerciseAngina  Oldpeak ST_Slope  HeartDisease  \n",
      "0              N      0.0       Up             0  \n",
      "1              N      1.0     Flat             1  \n",
      "2              N      0.0       Up             0  \n",
      "3              Y      1.5     Flat             1  \n",
      "4              N      0.0       Up             0  \n"
     ]
    }
   ],
   "source": [
    "data_heart = pd.read_csv(\"heart.csv\")\n",
    "print(\"onservation size: \", len(data_heart))\n",
    "print(data_heart.head())"
   ]
  },
  {
   "cell_type": "markdown",
   "id": "27014433",
   "metadata": {},
   "source": [
    "checking to see if any null values"
   ]
  },
  {
   "cell_type": "code",
   "execution_count": null,
   "id": "daeb324a",
   "metadata": {},
   "outputs": [],
   "source": [
    " print(data.isnull().sum())"
   ]
  },
  {
   "cell_type": "code",
   "execution_count": null,
   "id": "56348149",
   "metadata": {},
   "outputs": [],
   "source": [
    "print(data.dtypes)"
   ]
  },
  {
   "cell_type": "markdown",
   "id": "826cd31a",
   "metadata": {},
   "source": [
    "we will work on the train data set \n",
    "we will split our data set to two ( one with the Heart Disease and with no heart disease to compare them)\n",
    "first we will examine the numeric data and then not numeric data"
   ]
  },
  {
   "cell_type": "code",
   "execution_count": null,
   "id": "5f48cde6",
   "metadata": {},
   "outputs": [],
   "source": [
    "numeric= [\"Age\", \"RestingBP\",\"Cholesterol\", \"Oldpeak\" , \"MaxHR\", \"HeartDisease\"]\n",
    "g = sns.PairGrid(data.loc[ : ,numeric], hue=\"HeartDisease\")\n",
    "g.map_diag(sns.histplot, multiple=\"stack\", element=\"step\", color=\".3\")\n",
    "g.map_offdiag(sns.scatterplot)\n",
    "g.add_legend()"
   ]
  },
  {
   "cell_type": "code",
   "execution_count": null,
   "id": "8d9f5101",
   "metadata": {},
   "outputs": [],
   "source": [
    "#data.insert(11,\"class\",[\"heart_disease\" if val == 1 else \"normal\" for val in data[\"HeartDisease\"]],True )"
   ]
  },
  {
   "cell_type": "code",
   "execution_count": null,
   "id": "647c4f33",
   "metadata": {},
   "outputs": [],
   "source": [
    "\n",
    "\n",
    "#sns.catplot(y=\"RestingECG\", hue=\"class\", kind=\"count\",\n",
    "#            palette=\"pastel\", edgecolor=\".6\",\n",
    "#            data=data)"
   ]
  },
  {
   "cell_type": "code",
   "execution_count": null,
   "id": "5e08bcad",
   "metadata": {},
   "outputs": [],
   "source": [
    "\n",
    "#sns.catplot( x=\"ChestPainType\" y=\"HeartDisease\", hue=\"HeartDisease\",\n",
    "#kind=\"count\", data=data)\n",
    "\n",
    "#sns.catplot(x=\"ChestPainType\", kind=\"count\",hue=\"class\", data=data)\n"
   ]
  },
  {
   "cell_type": "markdown",
   "id": "721c2140",
   "metadata": {},
   "source": [
    "Majority of heart deasiase patient have ASY"
   ]
  },
  {
   "cell_type": "code",
   "execution_count": null,
   "id": "d6443529",
   "metadata": {},
   "outputs": [],
   "source": [
    "#sns.catplot(x=\"Oldpeak\", y=\"class\", hue=\"HeartDisease\",kind=\"violin\", bw=.15, cut=0, data=data)"
   ]
  },
  {
   "cell_type": "code",
   "execution_count": null,
   "id": "8dced7ab",
   "metadata": {},
   "outputs": [],
   "source": [
    "#sns.catplot(y=\"ST_Slope\", hue=\"class\", kind=\"count\",palette=\"pastel\", edgecolor=\".6\",data=data)"
   ]
  },
  {
   "cell_type": "code",
   "execution_count": null,
   "id": "90388575",
   "metadata": {},
   "outputs": [],
   "source": [
    "#sns.catplot(x=\"class\", y=\"Oldpeak\", hue=\"HeartDisease\",kind=\"box\", dodge=False, data=data)"
   ]
  },
  {
   "cell_type": "markdown",
   "id": "d7486acd",
   "metadata": {},
   "source": [
    " ### ------------ Creating Logistic Regression Model ------------------------"
   ]
  },
  {
   "cell_type": "markdown",
   "id": "2e12ed3e",
   "metadata": {},
   "source": [
    "we have categorical data and we need to clean the data so we need to transform data so we can implement logistic regression"
   ]
  },
  {
   "cell_type": "code",
   "execution_count": null,
   "id": "aec04020",
   "metadata": {},
   "outputs": [],
   "source": [
    "import numpy as np\n",
    "from sklearn.compose import ColumnTransformer\n",
    "from sklearn.datasets import fetch_openml\n",
    "from sklearn.pipeline import Pipeline\n",
    "from sklearn.impute import SimpleImputer\n",
    "from sklearn.preprocessing import StandardScaler, OneHotEncoder\n",
    "from sklearn.linear_model import LogisticRegression\n",
    "from sklearn.model_selection import train_test_split, GridSearchCV\n",
    "\n",
    "\n",
    "\n",
    "\n",
    "x = data.iloc[ : , :12]\n",
    "print(\"**** x ***\")\n",
    "print(x)\n",
    "y=data.loc[ : ,\"HeartDisease\"]\n",
    "print(\"**** y***\")\n",
    "print(y)\n",
    "# Alternatively X and y can be obtained directly from the frame attribute:\n",
    "# X = titanic.frame.drop('survived', axis=1)\n",
    "# y = titanic.frame['survived']"
   ]
  },
  {
   "cell_type": "code",
   "execution_count": null,
   "id": "4950f42f",
   "metadata": {},
   "outputs": [],
   "source": [
    "numeric_features = [\"Age\", \"RestingBP\", \"Cholesterol\",\"FastingBS\" , \"MaxHR\", \"Oldpeak\"]\n",
    "numeric_transformer = Pipeline(\n",
    "    steps=[(\"imputer\", SimpleImputer(strategy=\"median\")), (\"scaler\", StandardScaler())]\n",
    ")\n",
    "\n",
    "categorical_features = [\"Sex\", \"ChestPainType\", \"RestingECG\", \"ExerciseAngina\", \"ST_Slope\"]\n",
    "categorical_transformer = OneHotEncoder(handle_unknown=\"ignore\")\n",
    "\n",
    "preprocessor = ColumnTransformer(\n",
    "    transformers=[\n",
    "        (\"num\", numeric_transformer, numeric_features),\n",
    "        (\"cat\", categorical_transformer, categorical_features),\n",
    "    ]\n",
    ")\n",
    "\n",
    "\n",
    "\n",
    "# Append classifier to preprocessing pipeline.\n",
    "# Now we have a full prediction pipeline.\n",
    "\n",
    "clf = Pipeline(\n",
    "    steps=[(\"preprocessor\", preprocessor), (\"classifier\", LogisticRegression())]\n",
    ")\n",
    "\n",
    "\n"
   ]
  },
  {
   "cell_type": "code",
   "execution_count": null,
   "id": "88cedd8c",
   "metadata": {},
   "outputs": [],
   "source": [
    "x_train,x_test,y_train, y_test = train_test_split(x, y, \n",
    "                                                  test_size=0.5,\n",
    "                                                  random_state=11, \n",
    "                                                  stratify=y, shuffle=True)\n",
    "\n",
    "\n",
    "clf.fit(x_train, y_train)\n",
    "y_predict = clf.predict(x_test)\n",
    "print(\"model score: %.3f\" % clf.score(x_test, y_test))\n"
   ]
  },
  {
   "cell_type": "code",
   "execution_count": null,
   "id": "e29fa862",
   "metadata": {},
   "outputs": [],
   "source": [
    "cm = confusion_matrix(y_test, y_predict)"
   ]
  },
  {
   "cell_type": "code",
   "execution_count": null,
   "id": "0c47b88e",
   "metadata": {},
   "outputs": [],
   "source": [
    "TN, FP, FN, TP =cm.ravel()\n",
    "print((TN, FP, FN, TP))\n",
    "group_names = [\"TN\",\"FP\",\"FN\",\"TP\"]\n",
    "group_counts = [\"{0:0.0f}\".format(value) for value in\n",
    "                cm.flatten()]\n",
    "group_percentages = [\"{0:.2%}\".format(value) for value in\n",
    "                     cm.flatten()/np.sum(cm)]\n",
    "labels = [f\"{v1}\\n{v2}\\n{v3}\" for v1, v2, v3 in\n",
    "          zip(group_names,group_counts,group_percentages)]\n",
    "labels = np.asarray(labels).reshape(2,2)\n",
    "sns.heatmap(cm, annot=labels, fmt='', cmap='Blues')"
   ]
  },
  {
   "cell_type": "code",
   "execution_count": null,
   "id": "f242878b",
   "metadata": {},
   "outputs": [],
   "source": [
    "my_accuracy_score = accuracy_score(y_test, y_predict)\n",
    "TPR= TP/(TP + FN)\n",
    "TNR = TN/(TN + FP)\n",
    "my_matrix_values = {\"TN\":TN, \"FP\":FP, \"FN\":FN, \"TP\":TP,\"Accuracy\": my_accuracy_score,\"TPR\":TPR,\"TNR\":TNR}\n",
    "datframe = pd.DataFrame(my_matrix_values , index=[0])\n",
    "print(datframe)\n",
    "#display(my_matrix_values)"
   ]
  },
  {
   "cell_type": "code",
   "execution_count": null,
   "id": "f3dad8db",
   "metadata": {},
   "outputs": [],
   "source": [
    "my_list = data.dtypes\n",
    "print(my_list)\n",
    "print(\"length\", len(my_list))"
   ]
  },
  {
   "cell_type": "code",
   "execution_count": 33,
   "id": "6804c6b3",
   "metadata": {},
   "outputs": [
    {
     "name": "stdout",
     "output_type": "stream",
     "text": [
      "    Sex ChestPainType RestingECG ExerciseAngina ST_Slope\n",
      "0     M           ATA     Normal              N       Up\n",
      "1     F           NAP     Normal              N     Flat\n",
      "2     M           ATA         ST              N       Up\n",
      "3     F           ASY     Normal              Y     Flat\n",
      "4     M           NAP     Normal              N       Up\n",
      "..   ..           ...        ...            ...      ...\n",
      "913   M            TA     Normal              N     Flat\n",
      "914   M           ASY     Normal              N     Flat\n",
      "915   M           ASY     Normal              Y     Flat\n",
      "916   F           ATA        LVH              N     Flat\n",
      "917   M           NAP     Normal              N       Up\n",
      "\n",
      "[918 rows x 5 columns]\n",
      "**** x ***\n",
      "     Sex_F  Sex_M  ChestPainType_ASY  ChestPainType_ATA  ChestPainType_NAP  \\\n",
      "0        0      1                  0                  1                  0   \n",
      "1        1      0                  0                  0                  1   \n",
      "2        0      1                  0                  1                  0   \n",
      "3        1      0                  1                  0                  0   \n",
      "4        0      1                  0                  0                  1   \n",
      "..     ...    ...                ...                ...                ...   \n",
      "913      0      1                  0                  0                  0   \n",
      "914      0      1                  1                  0                  0   \n",
      "915      0      1                  1                  0                  0   \n",
      "916      1      0                  0                  1                  0   \n",
      "917      0      1                  0                  0                  1   \n",
      "\n",
      "     ChestPainType_TA  RestingECG_LVH  RestingECG_Normal  RestingECG_ST  \\\n",
      "0                   0               0                  1              0   \n",
      "1                   0               0                  1              0   \n",
      "2                   0               0                  0              1   \n",
      "3                   0               0                  1              0   \n",
      "4                   0               0                  1              0   \n",
      "..                ...             ...                ...            ...   \n",
      "913                 1               0                  1              0   \n",
      "914                 0               0                  1              0   \n",
      "915                 0               0                  1              0   \n",
      "916                 0               1                  0              0   \n",
      "917                 0               0                  1              0   \n",
      "\n",
      "     ExerciseAngina_N  ExerciseAngina_Y  ST_Slope_Down  ST_Slope_Flat  \n",
      "0                   1                 0              0              0  \n",
      "1                   1                 0              0              1  \n",
      "2                   1                 0              0              0  \n",
      "3                   0                 1              0              1  \n",
      "4                   1                 0              0              0  \n",
      "..                ...               ...            ...            ...  \n",
      "913                 1                 0              0              1  \n",
      "914                 1                 0              0              1  \n",
      "915                 0                 1              0              1  \n",
      "916                 1                 0              0              1  \n",
      "917                 1                 0              0              0  \n",
      "\n",
      "[918 rows x 13 columns]\n",
      "**** y***\n",
      "0      0\n",
      "1      1\n",
      "2      0\n",
      "3      1\n",
      "4      0\n",
      "      ..\n",
      "913    1\n",
      "914    1\n",
      "915    1\n",
      "916    1\n",
      "917    0\n",
      "Name: HeartDisease, Length: 918, dtype: int64\n",
      "[[175  30]\n",
      " [ 42 212]]\n",
      "0.8431372549019608\n",
      "(175, 30, 42, 212)\n",
      "    TN  FP  FN   TP  Accuracy       TPR       TNR\n",
      "0  175  30  42  212  0.843137  0.834646  0.853659\n"
     ]
    },
    {
     "data": {
      "image/png": "[encoded data removed]",
      "text/plain": [
       "<Figure size 432x288 with 2 Axes>"
      ]
     },
     "metadata": {
      "needs_background": "light"
     },
     "output_type": "display_data"
    }
   ],
   "source": [
    "# https://scikit-learn.org/stable/modules/feature_selection.html\n",
    "#https://github.com/Pitsillides91/Python-Tutorials/blob/master/Introduction%20to%20ML%20-%20Logistic%20Regression%20Example/Introduction%20to%20Machine%20Learning%20-%20Logistic%20Regression%20Example%20(Titles%20Only).ipynb\n",
    "# https://www.youtube.com/watch?v=NPdn3YPkg9w\n",
    "my_data = data_heart[[\"Sex\", \"ChestPainType\", \"RestingECG\", \"ExerciseAngina\", \"ST_Slope\"]]\n",
    "numeric_data  = data_heart[[\"Age\", \"RestingBP\", \"Cholesterol\",\"FastingBS\" , \"MaxHR\", \"Oldpeak\"]]\n",
    "print(my_data)\n",
    "dfBinary = pd.get_dummies(my_data)\n",
    "#print(dfBinary)\n",
    "\n",
    "frames = [dfBinary,numeric_data ]\n",
    "df_binary = pd.concat(frames, axis=1)\n",
    "#print( list(df_binary.columns))\n",
    "\n",
    "x_new = df_binary.iloc[ : , :13]\n",
    "print(\"**** x ***\")\n",
    "print(x_new)\n",
    "y_new = data_heart.loc[ : ,\"HeartDisease\"]\n",
    "print(\"**** y***\")\n",
    "print(y_new)\n",
    "\n",
    "# splitting\n",
    "x_train_bd,x_test_bd,y_train_bd, y_test_bd = train_test_split(x_new, y_new, \n",
    "                                                  test_size=0.5,\n",
    "                                                  random_state=11,\n",
    "                                                  stratify=y_new, \n",
    "                                                  shuffle=True)\n",
    "\n",
    "################\n",
    "log_reg_classifier = LogisticRegression()\n",
    "log_reg_classifier.fit(x_train_bd,y_train_bd)\n",
    "y_pred_mod = log_reg_classifier.predict(x_test_bd)\n",
    "#log_reg_classifier = LogisticRegression()\n",
    "#log_reg_classifier.fit(X,y_train)\n",
    "\n",
    "\n",
    "cm_two = confusion_matrix(y_test_bd, y_pred_mod)\n",
    "print(cm_two)\n",
    "my_accuracy_score_mod = accuracy_score(y_test_bd, y_pred_mod)\n",
    "print(my_accuracy_score_mod)\n",
    "\n",
    "\n",
    "\n",
    "def printCM(y_test, y_pred):\n",
    "    cm = confusion_matrix(y_test, y_pred)\n",
    "    TN, FP, FN, TP =  cm.ravel()\n",
    "    print((TN, FP, FN, TP))\n",
    "    group_names = [\"TN\",\"FP\",\"FN\",\"TP\"]\n",
    "    group_counts = [\"{0:0.0f}\".format(value) for value in\n",
    "                cm.flatten()]\n",
    "    group_percentages = [\"{0:.2%}\".format(value) for value in\n",
    "                     cm.flatten()/np.sum(cm)]\n",
    "    labels = [f\"{v1}\\n{v2}\\n{v3}\" for v1, v2, v3 in\n",
    "          zip(group_names,group_counts,group_percentages)]\n",
    "    labels = np.asarray(labels).reshape(2,2)\n",
    "    sns.heatmap(cm, annot=labels, fmt='', cmap='Blues')\n",
    "    \n",
    "printCM(y_test=y_test_bd ,y_pred= y_pred_mod)    \n",
    "    \n",
    "\n",
    "def resultPrint(y_test, y_pred):\n",
    "    cm = confusion_matrix(y_test, y_pred)\n",
    "    TN, FP, FN, TP =  cm.ravel()\n",
    "    my_accuracy_score = accuracy_score(y_test, y_pred)\n",
    "    TPR= TP/(TP + FN)\n",
    "    TNR = TN/(TN + FP)\n",
    "    my_matrix_values = {\"TN\":TN, \"FP\":FP, \"FN\":FN, \"TP\":TP,\"Accuracy\": my_accuracy_score,\"TPR\":TPR,\"TNR\":TNR}\n",
    "    datframe = pd.DataFrame(my_matrix_values , index=[0])\n",
    "    print(datframe)\n",
    "    \n",
    "resultPrint(y_test=y_test_bd ,y_pred= y_pred_mod)    \n",
    "    "
   ]
  },
  {
   "cell_type": "code",
   "execution_count": 64,
   "id": "0a096bc2",
   "metadata": {},
   "outputs": [
    {
     "name": "stdout",
     "output_type": "stream",
     "text": [
      "{'Sex_F': 0.840958605664488, 'Sex_M': 0.840958605664488, 'ChestPainType_ASY': 0.8474945533769063, 'ChestPainType_ATA': 0.8453159041394336, 'ChestPainType_NAP': 0.8583877995642701, 'ChestPainType_TA': 0.840958605664488, 'RestingECG_LVH': 0.840958605664488, 'RestingECG_Normal': 0.840958605664488, 'RestingECG_ST': 0.8431372549019608, 'ExerciseAngina_N': 0.8431372549019608, 'ExerciseAngina_Y': 0.8431372549019608, 'ST_Slope_Down': 0.8257080610021786, 'ST_Slope_Flat': 0.7864923747276689}\n",
      "max effect \n",
      "feature ChestPainType_NAP\n",
      "accuracy score  0.8583877995642701\n",
      "when we drop it the accurasy score went down effect\n",
      "feature ST_Slope_Flat\n",
      "accuracy score  0.7864923747276689\n"
     ]
    }
   ],
   "source": [
    "def dropFeatureAccr(x_train,x_test, y_train, y_test):\n",
    "    accuracy_featuresDrop = []\n",
    "    column_name= list(x_train.columns.values.tolist())\n",
    "    for column in range(len(column_name)):\n",
    "        x_train_modified = x_train.drop(columns=[column_name[column]])\n",
    "        x_test_modified = x_test.drop(columns=[column_name[column]])\n",
    "        log_reg_classifier = LogisticRegression()\n",
    "        log_reg_classifier.fit(x_train_modified,y_train)\n",
    "        y_pred_mod = log_reg_classifier.predict(x_test_modified)\n",
    "        accuracy_featuresDrop.append(accuracy_score(y_test,y_pred_mod))      \n",
    "    dictionary_feature_drop = dict(zip(column_name, accuracy_featuresDrop))        \n",
    "    return dictionary_feature_drop\n",
    "\n",
    "logisticRegDrop =dropFeatureAccr(x_train= x_train_bd,y_train= y_train_bd,x_test= x_test_bd, y_test = y_test_bd) \n",
    "print(logisticRegDrop)\n",
    "print(\"max effect \")\n",
    "print(\"feature\", max(logisticRegDrop, key=logisticRegDrop.get))\n",
    "print(\"accuracy score \", logisticRegDrop.get(max(logisticRegDrop, key=logisticRegDrop.get)))\n",
    "print(\"when we drop it the accurasy score went down effect\")\n",
    "print(\"feature\",min(logisticRegDrop, key=logisticRegDrop.get))\n",
    "print(\"accuracy score \", logisticRegDrop.get(min(logisticRegDrop, key=logisticRegDrop.get)))\n"
   ]
  },
  {
   "cell_type": "markdown",
   "id": "d44163b9",
   "metadata": {},
   "source": [
    "### Evaluate the Model"
   ]
  },
  {
   "cell_type": "code",
   "execution_count": 79,
   "id": "2cf5d7a0",
   "metadata": {},
   "outputs": [
    {
     "data": {
      "text/plain": [
       "<sklearn.metrics._plot.roc_curve.RocCurveDisplay at 0x2476341b310>"
      ]
     },
     "execution_count": 79,
     "metadata": {},
     "output_type": "execute_result"
    },
    {
     "data": {
      "image/png": "[encoded data removed]",
      "text/plain": [
       "<Figure size 576x432 with 1 Axes>"
      ]
     },
     "metadata": {
      "needs_background": "light"
     },
     "output_type": "display_data"
    }
   ],
   "source": [
    "plot_roc_curve(log_reg_classifier, x_test_bd, y_test_bd)\n"
   ]
  }
 ],
 "metadata": {
  "kernelspec": {
   "display_name": "Python 3 (ipykernel)",
   "language": "python",
   "name": "python3"
  },
  "language_info": {
   "codemirror_mode": {
    "name": "ipython",
    "version": 3
   },
   "file_extension": ".py",
   "mimetype": "text/x-python",
   "name": "python",
   "nbconvert_exporter": "python",
   "pygments_lexer": "ipython3",
   "version": "3.9.7"
  }
 },
 "nbformat": 4,
 "nbformat_minor": 5
}
